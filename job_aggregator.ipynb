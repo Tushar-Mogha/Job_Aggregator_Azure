{
 "cells": [
  {
   "cell_type": "code",
   "execution_count": 7,
   "id": "f538bbeb-336b-4185-a385-bc80e915e7eb",
   "metadata": {},
   "outputs": [
    {
     "name": "stdout",
     "output_type": "stream",
     "text": [
      "Requirement already satisfied: requests in d:\\anaconda\\lib\\site-packages (2.32.3)\n",
      "Requirement already satisfied: beautifulsoup4 in d:\\anaconda\\lib\\site-packages (4.12.3)\n",
      "Requirement already satisfied: lxml in d:\\anaconda\\lib\\site-packages (5.2.1)\n",
      "Requirement already satisfied: pandas in d:\\anaconda\\lib\\site-packages (2.2.2)\n",
      "Requirement already satisfied: charset-normalizer<4,>=2 in d:\\anaconda\\lib\\site-packages (from requests) (3.3.2)\n",
      "Requirement already satisfied: idna<4,>=2.5 in d:\\anaconda\\lib\\site-packages (from requests) (3.7)\n",
      "Requirement already satisfied: urllib3<3,>=1.21.1 in d:\\anaconda\\lib\\site-packages (from requests) (2.2.3)\n",
      "Requirement already satisfied: certifi>=2017.4.17 in d:\\anaconda\\lib\\site-packages (from requests) (2024.12.14)\n",
      "Requirement already satisfied: soupsieve>1.2 in d:\\anaconda\\lib\\site-packages (from beautifulsoup4) (2.5)\n",
      "Requirement already satisfied: numpy>=1.26.0 in d:\\anaconda\\lib\\site-packages (from pandas) (1.26.4)\n",
      "Requirement already satisfied: python-dateutil>=2.8.2 in d:\\anaconda\\lib\\site-packages (from pandas) (2.9.0.post0)\n",
      "Requirement already satisfied: pytz>=2020.1 in d:\\anaconda\\lib\\site-packages (from pandas) (2024.1)\n",
      "Requirement already satisfied: tzdata>=2022.7 in d:\\anaconda\\lib\\site-packages (from pandas) (2023.3)\n",
      "Requirement already satisfied: six>=1.5 in d:\\anaconda\\lib\\site-packages (from python-dateutil>=2.8.2->pandas) (1.16.0)\n"
     ]
    }
   ],
   "source": [
    "!pip install requests beautifulsoup4 lxml pandas"
   ]
  },
  {
   "cell_type": "code",
   "execution_count": 19,
   "id": "18f822cd-e13d-436f-b155-7c3721d5bc09",
   "metadata": {},
   "outputs": [],
   "source": [
    "import requests"
   ]
  },
  {
   "cell_type": "code",
   "execution_count": 23,
   "id": "8df7d126-09ab-45ee-8f4c-95056d164716",
   "metadata": {},
   "outputs": [],
   "source": [
    "internship_url = \"https://internshala.com/internships/work-from-home-data-science-internships\"\n",
    "job_url = \"https://internshala.com/fresher-jobs/data-science-jobs/work-from-home\""
   ]
  },
  {
   "cell_type": "code",
   "execution_count": 25,
   "id": "7f043ef8-66aa-413c-a633-d6ccd9f5364f",
   "metadata": {},
   "outputs": [],
   "source": [
    "headers = {\"User-Agent\": \"Mozilla/5.0 (Windows NT 10.0; Win64; x64)\"}"
   ]
  },
  {
   "cell_type": "code",
   "execution_count": 31,
   "id": "7d391a6a-1e8e-4f3a-b676-f4e99e86eb19",
   "metadata": {},
   "outputs": [],
   "source": [
    "def get_html(url):     # Giving URLs as input\n",
    "    headers = {\n",
    "        \"User-Agent\": \"Mozilla/5.0 (Windows NT 10.0; Win64; x64)\"\n",
    "    }\n",
    "    response = requests.get(url, headers=headers)\n",
    "    if response.status_code == 200:\n",
    "        print(f\"✅ Fetched successfully: {url}\")\n",
    "        return response.text\n",
    "    else:\n",
    "        print(f\"❌ Failed to fetch: {url} | Status Code: {response.status_code}\")\n",
    "        return None"
   ]
  },
  {
   "cell_type": "code",
   "execution_count": 33,
   "id": "e74047ee-7aab-45d5-bed3-fc1faa642e5a",
   "metadata": {},
   "outputs": [
    {
     "name": "stdout",
     "output_type": "stream",
     "text": [
      "✅ Fetched successfully: https://internshala.com/internships/work-from-home-data-science-internships\n",
      "✅ Fetched successfully: https://internshala.com/fresher-jobs/data-science-jobs/work-from-home\n"
     ]
    }
   ],
   "source": [
    "# Fetch HTML for both\n",
    "internship_html = get_html(internship_url)\n",
    "job_html = get_html(job_url)"
   ]
  },
  {
   "cell_type": "code",
   "execution_count": null,
   "id": "1acc0bb2-a2b6-4c53-bfa8-6bb36fa908b4",
   "metadata": {},
   "outputs": [],
   "source": []
  }
 ],
 "metadata": {
  "kernelspec": {
   "display_name": "Python [conda env:base] *",
   "language": "python",
   "name": "conda-base-py"
  },
  "language_info": {
   "codemirror_mode": {
    "name": "ipython",
    "version": 3
   },
   "file_extension": ".py",
   "mimetype": "text/x-python",
   "name": "python",
   "nbconvert_exporter": "python",
   "pygments_lexer": "ipython3",
   "version": "3.12.7"
  }
 },
 "nbformat": 4,
 "nbformat_minor": 5
}
