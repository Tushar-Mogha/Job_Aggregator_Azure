{
 "cells": [
  {
   "cell_type": "code",
   "execution_count": 92,
   "id": "f538bbeb-336b-4185-a385-bc80e915e7eb",
   "metadata": {},
   "outputs": [
    {
     "name": "stdout",
     "output_type": "stream",
     "text": [
      "Requirement already satisfied: requests in d:\\anaconda\\lib\\site-packages (2.32.3)\n",
      "Requirement already satisfied: beautifulsoup4 in d:\\anaconda\\lib\\site-packages (4.12.3)\n",
      "Requirement already satisfied: lxml in d:\\anaconda\\lib\\site-packages (5.2.1)\n",
      "Requirement already satisfied: pandas in d:\\anaconda\\lib\\site-packages (2.2.2)\n",
      "Requirement already satisfied: charset-normalizer<4,>=2 in d:\\anaconda\\lib\\site-packages (from requests) (3.3.2)\n",
      "Requirement already satisfied: idna<4,>=2.5 in d:\\anaconda\\lib\\site-packages (from requests) (3.7)\n",
      "Requirement already satisfied: urllib3<3,>=1.21.1 in d:\\anaconda\\lib\\site-packages (from requests) (2.5.0)\n",
      "Requirement already satisfied: certifi>=2017.4.17 in d:\\anaconda\\lib\\site-packages (from requests) (2025.8.3)\n",
      "Requirement already satisfied: soupsieve>1.2 in d:\\anaconda\\lib\\site-packages (from beautifulsoup4) (2.5)\n",
      "Requirement already satisfied: numpy>=1.26.0 in d:\\anaconda\\lib\\site-packages (from pandas) (1.26.4)\n",
      "Requirement already satisfied: python-dateutil>=2.8.2 in d:\\anaconda\\lib\\site-packages (from pandas) (2.9.0.post0)\n",
      "Requirement already satisfied: pytz>=2020.1 in d:\\anaconda\\lib\\site-packages (from pandas) (2024.1)\n",
      "Requirement already satisfied: tzdata>=2022.7 in d:\\anaconda\\lib\\site-packages (from pandas) (2023.3)\n",
      "Requirement already satisfied: six>=1.5 in d:\\anaconda\\lib\\site-packages (from python-dateutil>=2.8.2->pandas) (1.16.0)\n"
     ]
    }
   ],
   "source": [
    "!pip install requests beautifulsoup4 lxml pandas"
   ]
  },
  {
   "cell_type": "code",
   "execution_count": 93,
   "id": "18f822cd-e13d-436f-b155-7c3721d5bc09",
   "metadata": {},
   "outputs": [],
   "source": [
    "import requests"
   ]
  },
  {
   "cell_type": "code",
   "execution_count": 94,
   "id": "8df7d126-09ab-45ee-8f4c-95056d164716",
   "metadata": {},
   "outputs": [],
   "source": [
    "internship_url = \"https://internshala.com/internships/work-from-home-data-science-internships\"\n",
    "job_url = \"https://internshala.com/fresher-jobs/data-science-jobs/work-from-home\""
   ]
  },
  {
   "cell_type": "code",
   "execution_count": 95,
   "id": "7f043ef8-66aa-413c-a633-d6ccd9f5364f",
   "metadata": {},
   "outputs": [],
   "source": [
    "headers = {\"User-Agent\": \"Mozilla/5.0 (Windows NT 10.0; Win64; x64)\"}"
   ]
  },
  {
   "cell_type": "code",
   "execution_count": 96,
   "id": "7d391a6a-1e8e-4f3a-b676-f4e99e86eb19",
   "metadata": {},
   "outputs": [],
   "source": [
    "def get_html(url):     # Giving URLs as input\n",
    "    headers = {\n",
    "        \"User-Agent\": \"Mozilla/5.0 (Windows NT 10.0; Win64; x64)\"\n",
    "    }\n",
    "    response = requests.get(url, headers=headers)\n",
    "    if response.status_code == 200:\n",
    "        print(f\"✅ Fetched successfully: {url}\")\n",
    "        return response.text\n",
    "    else:\n",
    "        print(f\"❌ Failed to fetch: {url} | Status Code: {response.status_code}\")\n",
    "        return None"
   ]
  },
  {
   "cell_type": "code",
   "execution_count": 97,
   "id": "b71fe57c-6986-4f85-9e2f-0ee435cb8ed8",
   "metadata": {},
   "outputs": [
    {
     "name": "stdout",
     "output_type": "stream",
     "text": [
      "Requirement already satisfied: selenium in d:\\anaconda\\lib\\site-packages (4.34.2)\n",
      "Requirement already satisfied: urllib3~=2.5.0 in d:\\anaconda\\lib\\site-packages (from urllib3[socks]~=2.5.0->selenium) (2.5.0)\n",
      "Requirement already satisfied: trio~=0.30.0 in d:\\anaconda\\lib\\site-packages (from selenium) (0.30.0)\n",
      "Requirement already satisfied: trio-websocket~=0.12.2 in d:\\anaconda\\lib\\site-packages (from selenium) (0.12.2)\n",
      "Requirement already satisfied: certifi>=2025.6.15 in d:\\anaconda\\lib\\site-packages (from selenium) (2025.8.3)\n",
      "Requirement already satisfied: typing_extensions~=4.14.0 in d:\\anaconda\\lib\\site-packages (from selenium) (4.14.1)\n",
      "Requirement already satisfied: websocket-client~=1.8.0 in d:\\anaconda\\lib\\site-packages (from selenium) (1.8.0)\n",
      "Requirement already satisfied: attrs>=23.2.0 in d:\\anaconda\\lib\\site-packages (from trio~=0.30.0->selenium) (25.3.0)\n",
      "Requirement already satisfied: sortedcontainers in d:\\anaconda\\lib\\site-packages (from trio~=0.30.0->selenium) (2.4.0)\n",
      "Requirement already satisfied: idna in d:\\anaconda\\lib\\site-packages (from trio~=0.30.0->selenium) (3.7)\n",
      "Requirement already satisfied: outcome in d:\\anaconda\\lib\\site-packages (from trio~=0.30.0->selenium) (1.3.0.post0)\n",
      "Requirement already satisfied: sniffio>=1.3.0 in d:\\anaconda\\lib\\site-packages (from trio~=0.30.0->selenium) (1.3.0)\n",
      "Requirement already satisfied: cffi>=1.14 in d:\\anaconda\\lib\\site-packages (from trio~=0.30.0->selenium) (1.17.1)\n",
      "Requirement already satisfied: wsproto>=0.14 in d:\\anaconda\\lib\\site-packages (from trio-websocket~=0.12.2->selenium) (1.2.0)\n",
      "Requirement already satisfied: pysocks!=1.5.7,<2.0,>=1.5.6 in d:\\anaconda\\lib\\site-packages (from urllib3[socks]~=2.5.0->selenium) (1.7.1)\n",
      "Requirement already satisfied: pycparser in d:\\anaconda\\lib\\site-packages (from cffi>=1.14->trio~=0.30.0->selenium) (2.21)\n",
      "Requirement already satisfied: h11<1,>=0.9.0 in d:\\anaconda\\lib\\site-packages (from wsproto>=0.14->trio-websocket~=0.12.2->selenium) (0.14.0)\n",
      "Note: you may need to restart the kernel to use updated packages.\n"
     ]
    }
   ],
   "source": [
    "pip install selenium"
   ]
  },
  {
   "cell_type": "code",
   "execution_count": 98,
   "id": "c91dabaf-d14f-4189-80c5-508934e3fd1c",
   "metadata": {},
   "outputs": [],
   "source": [
    "from selenium import webdriver\n",
    "from selenium.webdriver.chrome.options import Options\n",
    "from selenium.webdriver.common.by import By\n",
    "import time\n",
    "from bs4 import BeautifulSoup"
   ]
  },
  {
   "cell_type": "code",
   "execution_count": 99,
   "id": "19864ffb-57c2-4d74-943f-b6bd09890acd",
   "metadata": {},
   "outputs": [],
   "source": [
    "# Internship URL\n",
    "internship_url = \"https://internshala.com/internships/work-from-home-data-science-internship\"\n",
    "job_url = \"https://internshala.com/jobs/work-from-home-data-science-jobs\""
   ]
  },
  {
   "cell_type": "code",
   "execution_count": 100,
   "id": "437c07c3-f130-4e21-bf6f-e95b6f621747",
   "metadata": {},
   "outputs": [],
   "source": [
    "# Configure Selenium\n",
    "chrome_options = Options()\n",
    "chrome_options.add_argument(\"--headless\")  # Run without opening browser\n",
    "chrome_options.add_argument(\"--disable-gpu\")\n",
    "chrome_options.add_argument(\"--no-sandbox\")"
   ]
  },
  {
   "cell_type": "code",
   "execution_count": 101,
   "id": "79815b46-5900-4384-aa4a-3aa24370de60",
   "metadata": {},
   "outputs": [],
   "source": [
    "driver = webdriver.Chrome(options=chrome_options)"
   ]
  },
  {
   "cell_type": "code",
   "execution_count": 102,
   "id": "9d964fd3-b506-4402-8b88-9305bdf565d6",
   "metadata": {},
   "outputs": [],
   "source": [
    "def get_full_html(url):\n",
    "    driver.get(url)\n",
    "    time.sleep(3)  # Wait for initial load\n",
    "\n",
    "    # Scroll until all internships are loaded\n",
    "    last_height = driver.execute_script(\"return document.body.scrollHeight\")\n",
    "    while True:\n",
    "        driver.execute_script(\"window.scrollTo(0, document.body.scrollHeight);\")\n",
    "        time.sleep(2)  # Wait for new content to load\n",
    "        new_height = driver.execute_script(\"return document.body.scrollHeight\")\n",
    "        if new_height == last_height:\n",
    "            break\n",
    "        last_height = new_height\n",
    "\n",
    "    return driver.page_source"
   ]
  },
  {
   "cell_type": "code",
   "execution_count": 103,
   "id": "e74047ee-7aab-45d5-bed3-fc1faa642e5a",
   "metadata": {},
   "outputs": [],
   "source": [
    "# Fetch HTML for both\n",
    "internship_html = get_full_html(internship_url)\n",
    "job_html = get_full_html(job_url)"
   ]
  },
  {
   "cell_type": "code",
   "execution_count": 104,
   "id": "1acc0bb2-a2b6-4c53-bfa8-6bb36fa908b4",
   "metadata": {},
   "outputs": [],
   "source": [
    "# Parse with BeautifulSoup\n",
    "internship_soup = BeautifulSoup(internship_html, \"html.parser\")\n",
    "job_soup = BeautifulSoup(job_html, \"html.parser\")"
   ]
  },
  {
   "cell_type": "code",
   "execution_count": 105,
   "id": "cdf8a2a0-c620-4f22-9ab5-a52d418c8246",
   "metadata": {},
   "outputs": [],
   "source": [
    "# Find cards\n",
    "internship_cards = internship_soup.find_all(\"div\", class_=\"individual_internship\")\n",
    "job_cards = job_soup.find_all(\"div\", class_=\"individual_internship\")"
   ]
  },
  {
   "cell_type": "code",
   "execution_count": 106,
   "id": "32a798b8-c8cf-4fd8-9328-f3ac1b9bcc8f",
   "metadata": {},
   "outputs": [
    {
     "name": "stdout",
     "output_type": "stream",
     "text": [
      "Found 42 internships\n",
      "Found 42 jobs\n"
     ]
    }
   ],
   "source": [
    "print(f\"Found {len(internship_cards)} internships\")\n",
    "print(f\"Found {len(job_cards)} jobs\")"
   ]
  },
  {
   "cell_type": "code",
   "execution_count": 107,
   "id": "062a67d7-79d2-42ce-81fd-2b67ef8e3409",
   "metadata": {},
   "outputs": [],
   "source": [
    "driver.quit()"
   ]
  },
  {
   "cell_type": "code",
   "execution_count": null,
   "id": "1f2d9bd3-bd83-40ee-9d9a-36a3c86d0457",
   "metadata": {},
   "outputs": [],
   "source": []
  }
 ],
 "metadata": {
  "kernelspec": {
   "display_name": "Python [conda env:base] *",
   "language": "python",
   "name": "conda-base-py"
  },
  "language_info": {
   "codemirror_mode": {
    "name": "ipython",
    "version": 3
   },
   "file_extension": ".py",
   "mimetype": "text/x-python",
   "name": "python",
   "nbconvert_exporter": "python",
   "pygments_lexer": "ipython3",
   "version": "3.12.7"
  }
 },
 "nbformat": 4,
 "nbformat_minor": 5
}
