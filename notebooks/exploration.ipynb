{
 "cells": [
  {
   "cell_type": "code",
   "execution_count": null,
   "id": "bf0f2ff3-dc19-400e-a0e7-f20b69baac19",
   "metadata": {},
   "outputs": [],
   "source": []
  }
 ],
 "metadata": {
  "kernelspec": {
   "display_name": "",
   "name": ""
  },
  "language_info": {
   "name": ""
  }
 },
 "nbformat": 4,
 "nbformat_minor": 5
}
