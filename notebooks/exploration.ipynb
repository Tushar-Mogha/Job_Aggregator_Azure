{
 "cells": [
  {
   "cell_type": "code",
   "execution_count": 10,
   "id": "771ef974-c907-4485-acc5-95cecf764ad6",
   "metadata": {},
   "outputs": [],
   "source": [
    "import sys\n",
    "import os\n",
    "sys.path.append(os.path.abspath(os.path.join(os.getcwd(), '..')))"
   ]
  },
  {
   "cell_type": "code",
   "execution_count": 17,
   "id": "d61e404a-222c-4c3b-8552-57743e8331f2",
   "metadata": {},
   "outputs": [],
   "source": [
    "import ipywidgets as widgets\n",
    "from IPython.display import display, clear_output\n",
    "from src.scraper import scrape_internshala"
   ]
  },
  {
   "cell_type": "code",
   "execution_count": 19,
   "id": "dd251980-b005-43cc-bdea-08f9c20dd4e0",
   "metadata": {},
   "outputs": [
    {
     "data": {
      "application/vnd.jupyter.widget-view+json": {
       "model_id": "0965e0bdb8a04bbf8c193718601bd6c5",
       "version_major": 2,
       "version_minor": 0
      },
      "text/plain": [
       "Dropdown(description='Type:', options=('Internship', 'Job'), value='Internship')"
      ]
     },
     "metadata": {},
     "output_type": "display_data"
    },
    {
     "data": {
      "application/vnd.jupyter.widget-view+json": {
       "model_id": "3393f45b4509485ba6a213f64ae4376b",
       "version_major": 2,
       "version_minor": 0
      },
      "text/plain": [
       "Text(value='Delhi', description='Location:')"
      ]
     },
     "metadata": {},
     "output_type": "display_data"
    },
    {
     "data": {
      "application/vnd.jupyter.widget-view+json": {
       "model_id": "bff52ca70d0341f49c8e8ebec37ee86d",
       "version_major": 2,
       "version_minor": 0
      },
      "text/plain": [
       "Text(value='Data Science', description='Category:')"
      ]
     },
     "metadata": {},
     "output_type": "display_data"
    },
    {
     "data": {
      "application/vnd.jupyter.widget-view+json": {
       "model_id": "d834a1cf1ea1414cab85ce4103f68967",
       "version_major": 2,
       "version_minor": 0
      },
      "text/plain": [
       "Button(description='Search', style=ButtonStyle())"
      ]
     },
     "metadata": {},
     "output_type": "display_data"
    },
    {
     "data": {
      "application/vnd.jupyter.widget-view+json": {
       "model_id": "9b655349bbd14ff29e172c3ef918fd64",
       "version_major": 2,
       "version_minor": 0
      },
      "text/plain": [
       "Output()"
      ]
     },
     "metadata": {},
     "output_type": "display_data"
    }
   ],
   "source": [
    "# Define input widgets\n",
    "job_type = widgets.Dropdown(options=['Internship', 'Job'], value='Internship', description='Type:')\n",
    "location = widgets.Text(value='Delhi', description='Location:')\n",
    "category = widgets.Text(value='Data Science', description='Category:')\n",
    "search_button = widgets.Button(description='Search')\n",
    "\n",
    "output = widgets.Output()\n",
    "\n",
    "def on_search_clicked(b):\n",
    "    with output:\n",
    "        clear_output(wait=True)\n",
    "        print(\"Searching, please wait...\")\n",
    "        try:\n",
    "            df = scrape_internshala(job_type.value, location.value, category.value)\n",
    "            if not df.empty:\n",
    "                display(df)\n",
    "            else:\n",
    "                print(\"No results found for the given criteria.\")\n",
    "        except Exception as e:\n",
    "            print(f\"Error: {e}\")\n",
    "\n",
    "search_button.on_click(on_search_clicked)\n",
    "\n",
    "display(job_type, location, category, search_button, output)"
   ]
  },
  {
   "cell_type": "code",
   "execution_count": null,
   "id": "90da24af-f131-4b73-bb2e-e07462b1ebe4",
   "metadata": {},
   "outputs": [],
   "source": []
  }
 ],
 "metadata": {
  "kernelspec": {
   "display_name": "Python [conda env:base] *",
   "language": "python",
   "name": "conda-base-py"
  },
  "language_info": {
   "codemirror_mode": {
    "name": "ipython",
    "version": 3
   },
   "file_extension": ".py",
   "mimetype": "text/x-python",
   "name": "python",
   "nbconvert_exporter": "python",
   "pygments_lexer": "ipython3",
   "version": "3.12.7"
  }
 },
 "nbformat": 4,
 "nbformat_minor": 5
}
