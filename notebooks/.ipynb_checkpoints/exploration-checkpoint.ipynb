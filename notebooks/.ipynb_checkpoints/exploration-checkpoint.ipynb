{
 "cells": [
  {
   "cell_type": "code",
   "execution_count": 10,
   "id": "771ef974-c907-4485-acc5-95cecf764ad6",
   "metadata": {},
   "outputs": [],
   "source": [
    "import sys\n",
    "import os\n",
    "sys.path.append(os.path.abspath(os.path.join(os.getcwd(), '..')))"
   ]
  },
  {
   "cell_type": "code",
   "execution_count": 12,
   "id": "d61e404a-222c-4c3b-8552-57743e8331f2",
   "metadata": {},
   "outputs": [
    {
     "data": {
      "application/vnd.jupyter.widget-view+json": {
       "model_id": "9b305979a3164841b613cb2f7958ee9f",
       "version_major": 2,
       "version_minor": 0
      },
      "text/plain": [
       "Dropdown(description='Type:', options=('Internship', 'Job'), value='Internship')"
      ]
     },
     "metadata": {},
     "output_type": "display_data"
    },
    {
     "data": {
      "application/vnd.jupyter.widget-view+json": {
       "model_id": "8fb959e08b754119bb52c7a896fc1fe5",
       "version_major": 2,
       "version_minor": 0
      },
      "text/plain": [
       "Text(value='Delhi', description='Location:')"
      ]
     },
     "metadata": {},
     "output_type": "display_data"
    },
    {
     "data": {
      "application/vnd.jupyter.widget-view+json": {
       "model_id": "066fafa31df94df5901d9ebc9661b32c",
       "version_major": 2,
       "version_minor": 0
      },
      "text/plain": [
       "Text(value='Data Science', description='Category:')"
      ]
     },
     "metadata": {},
     "output_type": "display_data"
    },
    {
     "data": {
      "application/vnd.jupyter.widget-view+json": {
       "model_id": "eda19cf7fd584e99901f03cc9f5dfe88",
       "version_major": 2,
       "version_minor": 0
      },
      "text/plain": [
       "Button(description='Search', style=ButtonStyle())"
      ]
     },
     "metadata": {},
     "output_type": "display_data"
    },
    {
     "data": {
      "application/vnd.jupyter.widget-view+json": {
       "model_id": "5d8dd0447c4d4518b57b01fd968f155c",
       "version_major": 2,
       "version_minor": 0
      },
      "text/plain": [
       "Output()"
      ]
     },
     "metadata": {},
     "output_type": "display_data"
    }
   ],
   "source": [
    "import ipywidgets as widgets\n",
    "from IPython.display import display, clear_output\n",
    "from src.scraper import scrape_internshala\n",
    "# Define input widgets\n",
    "job_type = widgets.Dropdown(options=['Internship', 'Job'], description='Type:')\n",
    "location = widgets.Text(value='Delhi', description='Location:')\n",
    "category = widgets.Text(value='Data Science', description='Category:')\n",
    "search_button = widgets.Button(description='Search')\n",
    "output = widgets.Output()\n",
    "# Define the callback on button click\n",
    "def on_search_clicked(b):\n",
    "    with output:\n",
    "        clear_output()\n",
    "        print(\"Searching, please wait...\")\n",
    "        df = scrape_internshala(job_type.value, location.value, category.value)\n",
    "        if not df.empty:\n",
    "            display(df)\n",
    "        else:\n",
    "            print(\"No results found for the given criteria.\")\n",
    "search_button.on_click(on_search_clicked)\n",
    "# Display widgets\n",
    "display(job_type, location, category, search_button, output)"
   ]
  },
  {
   "cell_type": "code",
   "execution_count": null,
   "id": "dd251980-b005-43cc-bdea-08f9c20dd4e0",
   "metadata": {},
   "outputs": [],
   "source": []
  }
 ],
 "metadata": {
  "kernelspec": {
   "display_name": "Python [conda env:base] *",
   "language": "python",
   "name": "conda-base-py"
  },
  "language_info": {
   "codemirror_mode": {
    "name": "ipython",
    "version": 3
   },
   "file_extension": ".py",
   "mimetype": "text/x-python",
   "name": "python",
   "nbconvert_exporter": "python",
   "pygments_lexer": "ipython3",
   "version": "3.12.7"
  }
 },
 "nbformat": 4,
 "nbformat_minor": 5
}
